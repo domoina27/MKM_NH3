{
 "cells": [
  {
   "cell_type": "markdown",
   "metadata": {},
   "source": [
    "## MICRO-KINETIC MODELING OF NH<sub>3</sub> DISSOCIATION AND N<sub>2</sub> AND H<sub>2</sub> FROMATION\n",
    "---\n",
    "### Reactions:\n",
    "#### Ammonia adsorption and desorption step:\n",
    "* NH<sub>3</sub> (g) + * = NH<sub>3</sub>*\n",
    "\n",
    "#### NH<sub>3</sub> dissociation is done in 3 elementarty steps\n",
    "* NH<sub>3</sub>* + * = NH<sub>2</sub>* + H*\n",
    "* NH<sub>2</sub>* + * = NH* + H*\n",
    "* NH* + * = N* + H*\n",
    "\n",
    "#### N<sub>2</sub> formation is done in 3 elementarty steps\n",
    "* 2 N* = NN**\n",
    "* NN*** = N<sub>2</sub>* + *\n",
    "* N2* = N<sub>2</sub> (g) + *\n",
    "\n",
    "#### H<sub>2</sub> formation is done in one elementary step\n",
    "* 2 H* = H<sub>2</sub> (g) + 2*"
   ]
  },
  {
   "cell_type": "markdown",
   "metadata": {},
   "source": [
    "### Import functions"
   ]
  },
  {
   "cell_type": "code",
   "execution_count": 2,
   "metadata": {},
   "outputs": [],
   "source": [
    "import sys\n",
    "import time\n",
    "import multiprocessing as mp\n",
    "\n",
    "import numpy as np\n",
    "import matplotlib.pyplot as plt\n",
    "from scipy.integrate import solve_ivp\n",
    "\n",
    "from rate_constant_func import calc_kads as k_ads\n",
    "from rate_constant_func import calc_kdes as k_des\n",
    "from rate_constant_func import calc_k_arr as k_surf\n",
    "\n",
    "from rate_constant_func import dksur_dT\n",
    "from rate_constant_func import dkdes_dT"
   ]
  },
  {
   "cell_type": "markdown",
   "metadata": {},
   "source": [
    "### Constants"
   ]
  },
  {
   "cell_type": "code",
   "execution_count": 3,
   "metadata": {},
   "outputs": [],
   "source": [
    "    # mass of relevant reactants\n",
    "m_NH3 = 17.03 * 1.66054e-27\n",
    "m_N2 = 14 * 1.66054e-27\n",
    "m_H2 = 2 * 1.66054e-27\n",
    "m_H = 1.66054e-27\n",
    "\n",
    "Beta = 3 #Beta  \n",
    "pt = 0 # Total pressure\n",
    "T0 = 50 # Initial Temperature\n",
    "\n",
    "t_end = 400 # Time end\n",
    "th_NH3_0 = 1/9\n",
    "theta = 1-th_NH3_0\n",
    "\n",
    "# Initial value\n",
    "P = pt * 1e5\n",
    "y0 = [P,th_NH3_0 , 0 , 0 , 0 , 0 , 0 , 0 , theta , 0 , 0 , T0]"
   ]
  },
  {
   "cell_type": "markdown",
   "metadata": {},
   "source": [
    "### Define all the relevant ODEs\n",
    "\n",
    "In this model, the initial temperature T<sub>0</sub> start at 50K, and a heating rate $\\beta$ = 3 K/s. \n",
    "\n",
    "To simplify our current model, steady-state approximation of the following adsorbed species was used: NH<sub>2</sub><sub>ads</sub>, N-N<sub>ads</sub>, N<sub>2</sub><sub>ads</sub>, and H<sub>ads</sub>, which means:\n",
    "\n",
    "$$\\frac{\\partial \\theta_{NH2}}{\\partial t} = 0 ; \\frac{\\partial \\theta_{N-N}}{\\partial t} = 0;  \\frac{\\partial \\theta_{N2}}{\\partial t} = 0 ; \\frac{\\partial \\theta_{H}}{\\partial t} = 0$$"
   ]
  },
  {
   "cell_type": "code",
   "execution_count": 40,
   "metadata": {},
   "outputs": [],
   "source": [
    "def dydt(t,y):\n",
    "    \n",
    "    dydt = np.zeros(12)\n",
    "    \n",
    "    #  0     1       2     3      4      5      6     7     8      9     10   11\n",
    "    P_NH3, Th_NH3, Th_NH2, Th_NH, Th_N, Th_NN, Th_N2, Th_H, Th,  P_N2,  P_H2, T = y \n",
    "        \n",
    "    # calculate all reaction rate constants        \n",
    "        #Dissociation of NH3\n",
    "    k_ads_1 = k_ads(T, P_NH3, 1e-20, m_NH3)/Beta\n",
    "    k_des_1 = k_des(T, 1e-20, m_NH3, 1, 8.92, 140e3)/Beta #adsorption and desorption of NH3\n",
    "           \n",
    "    \n",
    "    k_f_2 = k_surf(T, 1e13, 110e3)/Beta\n",
    "    k_b_2 = k_surf(T, 1e13,  115e3)/Beta  # dissociation of NH3\n",
    "    \n",
    "    k_f_3 = k_surf(T, 1e13, 35e3)/Beta\n",
    "    k_b_3 = k_surf(T, 1e13, 67e3) /Beta  # dissociation of NH2\n",
    "    \n",
    "    k_f_4 = k_surf(T, 1e13, 118e3)/Beta\n",
    "    k_b_4 = k_surf(T, 1e13,  92e3) /Beta  # dissociation of NH\n",
    "    \n",
    "        #formation of N2\n",
    "    k_f_5 = k_surf(T, 1e13, 165e3)/Beta\n",
    "    k_b_5 = k_surf(T, 1e13,  104e3)/Beta   # N-N coupling\n",
    "    \n",
    "    k_f_6 = k_surf(T, 1e13, 23e3)/Beta\n",
    "    k_b_6 = k_surf(T, 1e13, 74e3)/Beta   #N2* formation\n",
    "    \n",
    "    k_des_7 = k_des(T, 1e-20, m_N2, 2, 2.88, 41.6e3)/Beta\n",
    "    k_ads_7 = k_ads(T, P_N2, 1e-20, m_N2)/Beta    #N2 deorption and adsorption\n",
    "    \n",
    "        #formation of H2\n",
    "    k_des_8 = k_des(T, 1e-20, m_H, 2, 87.6, 20e3)/Beta\n",
    "    k_ads_8 = k_ads(T, P_H2, 1e-20, m_H2)/Beta\n",
    "    \n",
    "    # collect similar terms in new variables    \n",
    "    rf1 = k_ads_1 * Th #good\n",
    "    rb1 = k_des_1 * Th_NH3 ; r1 = -rb1\n",
    "    \n",
    "    rf2 = k_f_2 * Th_NH3 * Th #good\n",
    "    rb2 = k_b_2 * Th_NH2 * Th_H ; r2 = rf2-rb2\n",
    "    \n",
    "    rf3 = k_f_3 * Th_NH2 * Th\n",
    "    rb3 = k_b_3 * Th_NH * Th_H ; r3 = rf3-rb3\n",
    "    \n",
    "    rf4 = k_f_4 * Th_NH * Th\n",
    "    rb4 = k_b_4 * Th_N * Th_H ; r4 = rf4-rb4\n",
    "    \n",
    "    rf5 = k_f_5 * Th_N**2   \n",
    "    rb5 = k_b_5 * Th_NN  ; r5 = rf5-rb5\n",
    "    \n",
    "    rf6 = k_f_6 * Th_NN\n",
    "    rb6 = k_b_6 * Th_N2*Th ; r6 = rf6-rb6\n",
    "    \n",
    "    rf7 = k_des_7 * Th_N2\n",
    "    rb7 = k_ads_7 * Th  ; r7 = rf7-rb7\n",
    "    \n",
    "    rf8 = k_des_8 * Th_H**2 #good\n",
    "    rb8 = k_ads_8 * Th**2  ; r8 = rf8-rb8\n",
    "    \n",
    "    dydt[0] = -r1  #P_NH3\n",
    "    \n",
    "    r8 = 0.5*(2*r2+r4)\n",
    "    r7 = r5\n",
    "    r6 = r5\n",
    "    r3 = r2\n",
    "    dydt[1] = r1 - r2          # dθ(NH3)/dt\n",
    "    dydt[2] = r2 - r3 # = 0    # dθ(NH2)/dt\n",
    "    dydt[3] = r3 - r4          # dθ(NH)/dt\n",
    "    dydt[4] = r4 - 2*r5        # dθ(N)/dt\n",
    "    dydt[5] = r5 - r6 # = 0    # dθ(N-N)/dt\n",
    "    dydt[6] = r6 - r7 # = 0    # dθ(N2)/dt\n",
    "    dydt[7] = r2 + r3 + r4 - 2*r8 #0  # dθ(H)/dt\n",
    "    dydt[8] = r6 + r7 + 2*r8 - r1 - r2 - r3 -r4 # 2*r5-r1  # dθ(*)/dt\n",
    "    \n",
    "    dydt[9] = r5 #r7  # P_N2\n",
    "    dydt[10] = r8 # P_H2\n",
    "    \n",
    "    dydt[11] = Beta   # Temperature changes with time\n",
    "    \n",
    "    return dydt"
   ]
  },
  {
   "cell_type": "markdown",
   "metadata": {},
   "source": [
    "### Solve the ODE\n",
    "Because our model is stiff, the ODEs cannot be solved using an explicit method. Consequently, **BDF method** (Backward-Differentiation Formulas) was used instead of Runge Kutta. The former however requires a **Jacobian matrix** of the right-hand side of the system with respect to y. \n",
    "Thus, a 12 x 12 Jacobian matrix has to be define first."
   ]
  },
  {
   "cell_type": "markdown",
   "metadata": {},
   "source": [
    "#### 1/ Define the Jacobian Matrix"
   ]
  },
  {
   "cell_type": "code",
   "execution_count": 5,
   "metadata": {},
   "outputs": [],
   "source": [
    "def JACOB(t,x):\n",
    "    \n",
    "    P_NH3, Th_NH3, Th_NH2, Th_NH, Th_N, Th_NN, Th_N2, Th_H,  Th  , P_N2 , P_H2  , T   = x \n",
    "    #  0     1       2     3      4      5      6      7     8      9      10    11\n",
    "    \n",
    "    #Rate constants\n",
    "        #desorption rate of NH3\n",
    "    k1 = k_des(T, 1e-20, m_NH3, 1, 8.92, 140e3)/Beta #adsorption and desorption of NH3  \n",
    "    \n",
    "        #dissociation of NH3\n",
    "    kf2 = k_surf(T, 1e13, 110e3)/Beta\n",
    "    kb2 = k_surf(T, 1e13,  115e3)/Beta  # dissociation of NH3\n",
    "    \n",
    "    kf4 = k_surf(T, 1e13, 118e3)/Beta\n",
    "    kb4 = k_surf(T, 1e13,  92e3) /Beta  # dissociation of NH\n",
    "    \n",
    "        #formation of N2\n",
    "    kf5 = k_surf(T, 1e13, 165e3)/Beta\n",
    "    kb5 = k_surf(T, 1e13,  104e3)/Beta   # N-N coupling\n",
    "    \n",
    "    kf6 = k_surf(T, 1e13, 23e3)/Beta\n",
    "    kb6 = k_surf(T, 1e13, 74e3)/Beta   #N2* formation\n",
    "       \n",
    "    # collect similar terms in new variables    \n",
    "    #             1\n",
    "    r1 = - k1 * Th_NH3\n",
    "    dr1_dx1 = -k1      ; dk1_dT = dkdes_dT(T, 1e-20, m_NH3, 1, 8.92, 140e3)/Beta\n",
    "    dr1_dx11 = - Th_NH3* dk1_dT\n",
    "    \n",
    "    df0_dx1 = dr1_dx1\n",
    "    df1_dx11 = dr1_dx11\n",
    "    \n",
    "    #           1        8          2        7\n",
    "    r2 = kf2 * Th_NH3 * Th - kb2 * Th_NH2 * Th_H\n",
    "    dr2_dx1= kf2 * Th\n",
    "    dr2_dx2= - kb2 * Th_H\n",
    "    dr2_dx7= - kb2 * Th_NH2\n",
    "    dr2_dx8= kf2 * Th_NH3\n",
    "    \n",
    "    dkf2_dT = dksur_dT(T, 1e13, 110e3)/Beta\n",
    "    dkb2_dT = dksur_dT(T, 1e13,  115e3)/Beta\n",
    "    dr2_dx11= dkf2_dT * Th_NH3 * Th - dkb2_dT * Th_NH2 * Th_H\n",
    "        #--------------------------\n",
    "    #f1 = r1-r2\n",
    "    df1_dx1 = dr1_dx1 - dr2_dx1\n",
    "    df1_dx2 =       0 - dr2_dx2\n",
    "    df1_dx7 =       0 - dr2_dx7\n",
    "    df1_dx8 =       0 - dr2_dx8\n",
    "    df1_dx11= dr1_dx11- dr2_dx11\n",
    "        #--------------------------\n",
    "    #f2 = 0\n",
    "        #--------------------------\n",
    "    #            3     8           4      7\n",
    "    r4 = kf4 * Th_NH * Th - kb4 * Th_N * Th_H\n",
    "    dr4_dx3 = kf4 * Th\n",
    "    dr4_dx4 = - kb4 * Th_H\n",
    "    dr4_dx7 = - kb4 * Th_N \n",
    "    dr4_dx8 = kf4 * Th_NH\n",
    "    \n",
    "    dkf4_dT = dksur_dT(T, 1e13, 118e3)/Beta\n",
    "    dkb4_dT = dksur_dT(T, 1e13, 92e3)/Beta\n",
    "    dr4_dx11 = dkf4_dT * Th_NH * Th - dkb4_dT * Th_N * Th_H\n",
    "        #--------------------------\n",
    "    #f3 = r2 - r4\n",
    "    df3_dx1 = dr2_dx1 - 0\n",
    "    df3_dx2 = dr2_dx2 - 0\n",
    "    df3_dx3 =       0 - dr4_dx3\n",
    "    df3_dx4 =       0 - dr4_dx4\n",
    "    df3_dx7 = dr2_dx7 - dr4_dx7\n",
    "    df3_dx8 = dr2_dx8 - dr4_dx8\n",
    "    df3_dx11= dr2_dx11- dr4_dx11\n",
    "        #--------------------------\n",
    "    #            4               5   \n",
    "    r5 = kf5 * Th_N**2 - kb5 * Th_NN\n",
    "    dr5_dx4 = 2* kf5 * Th_N; df9_dx4 = dr5_dx4\n",
    "    dr5_dx5 = - kb5        ; df9_dx5 = dr5_dx5\n",
    "    \n",
    "    dkf5_dT = dksur_dT(T, 1e13, 165e3)/Beta\n",
    "    dkb5_dT = dksur_dT(T, 1e13, 104e3)/Beta\n",
    "    dr5_dx11= dkf5_dT * Th_N**2 - dkb5_dT * Th_NN; df9_dx11 = dr5_dx11\n",
    "        #--------------------------\n",
    "    #f4= r4-2r5\n",
    "    df4_dx3 = dr4_dx3 - 0\n",
    "    df4_dx4 = dr4_dx4 - 2*dr5_dx4\n",
    "    df4_dx5 =       0 - 2*dr5_dx5\n",
    "    df4_dx7 = dr4_dx7 - 0  \n",
    "    df4_dx8 = dr4_dx8 - 0\n",
    "    df4_dx11= dr4_dx11- 2*dr5_dx11\n",
    "        #--------------------------\n",
    "    #f8 = 2r5-r1\n",
    "    df8_dx1 =     0    - dr1_dx1\n",
    "    df8_dx4 =2*dr5_dx4 - 0\n",
    "    df8_dx5 =2*dr5_dx5 - 0\n",
    "    df8_dx11=2*dr5_dx11- dr1_dx11\n",
    "    \n",
    "        #--------------------------\n",
    "    #f10 = r2 +0.5r4\n",
    "    df10_dx1 = dr2_dx1 + 0\n",
    "    df10_dx2 = dr2_dx2 + 0\n",
    "    df10_dx3 =    0    + 0.5*dr4_dx3\n",
    "    df10_dx4 =    0    + 0.5*dr4_dx4\n",
    "    df10_dx7 = dr2_dx7 + 0.5*dr4_dx7\n",
    "    df10_dx8 = dr2_dx8 + 0.5*dr4_dx8\n",
    "    df10_dx11= dr2_dx11+ 0.5*dr4_dx11\n",
    "    \n",
    "        \n",
    "    # Derivatives dfi/dxi\n",
    "    \n",
    "    #      0       1       2         3      4        5          6       7         8       9       10   11\n",
    "    #x : P_NH3, Th_NH3 , Th_NH2 , Th_NH  , Th_N   ,  Th_NN ,  Th_N2 ,   Th_H ,    Th  ,  P_N2 ,  P_H2 ,  T\n",
    "    J0 = [ 0  ,df0_dx1 ,    0   ,   0    ,   0    ,   0    ,    0   ,  0     ,    0   ,  0   ,   0    , df1_dx11]\n",
    "    J1 = [ 0  ,df1_dx1 ,df1_dx2 ,   0    ,   0    ,   0    ,    0   ,df1_dx7 ,df1_dx8 ,  0   ,   0    , df1_dx11]\n",
    "    J2 = [ 0  ,   0    ,    0   ,   0    ,   0    ,   0    ,    0   ,   0    ,   0    ,  0   ,   0    ,  0      ] #f2 = 0\n",
    "    J3 = [ 0  ,df3_dx1 ,df3_dx2 ,df3_dx3 ,df3_dx4 ,   0    ,    0   ,df3_dx7 ,df3_dx8 ,  0   ,   0    , df3_dx11]\n",
    "    J4 = [ 0  ,   0    ,    0   ,df4_dx3 ,df4_dx4 ,df4_dx5 ,    0   ,df4_dx7 ,df4_dx8 ,  0   ,   0    , df4_dx11]\n",
    "    J5 = [ 0  ,   0    ,    0   ,   0    ,   0    ,   0    ,    0   ,  0     ,    0   ,  0   ,   0    ,  0      ] # f5 = 0\n",
    "    J6 = [ 0  ,   0    ,    0   ,   0    ,   0    ,   0    ,    0   ,   0    ,    0   ,  0   ,   0    ,  0      ] # f6 = 0\n",
    "    J7 = [ 0  ,   0    ,    0   ,   0    ,   0    ,   0    ,    0   ,   0    ,    0   ,  0   ,   0    ,  0      ] #d(ThH)dt = 0\n",
    "    J8 = [ 0  ,df8_dx1 ,    0   ,   0    ,df8_dx4 ,df8_dx5 ,    0   ,   0    ,    0   ,  0   ,   0    , df8_dx11]\n",
    "    #f9 = r7 = r5\n",
    "    J9 = [ 0  ,   0    ,    0   ,   0    ,df9_dx4 ,df9_dx5 ,    0   ,  0     ,    0   ,  0   ,   0    , df9_dx11]\n",
    "    J10= [ 0  ,df10_dx1,df10_dx2,df10_dx3,df10_dx4,   0    ,    0   ,df10_dx7,df10_dx8,  0   ,   0    ,df10_dx11]\n",
    "    J11= [ 0  ,   0    ,    0   ,   0    ,   0    ,   0    ,    0   ,  0     ,     0  ,  0   ,   0    ,  0      ]\n",
    "    \n",
    "    Jacobian = np.array([J0, J1, J2, J3, J4, J5, J6, J7, J8, J9, J10, J11])\n",
    "    return Jacobian"
   ]
  },
  {
   "cell_type": "markdown",
   "metadata": {},
   "source": [
    "#### 2/ Solve the ODEs"
   ]
  },
  {
   "cell_type": "markdown",
   "metadata": {},
   "source": [
    "##### The following cell gives the wall time without the Jacobian"
   ]
  },
  {
   "cell_type": "code",
   "execution_count": 9,
   "metadata": {},
   "outputs": [
    {
     "name": "stdout",
     "output_type": "stream",
     "text": [
      "Wall time: 119 ms\n"
     ]
    }
   ],
   "source": [
    "%time r0 = solve_ivp(dydt, (0,t_end), y0, method=\"BDF\", t_eval=np.linspace(0,t_end,1000))"
   ]
  },
  {
   "cell_type": "markdown",
   "metadata": {},
   "source": [
    "##### The following cell gives the wall time with the Jacobian"
   ]
  },
  {
   "cell_type": "code",
   "execution_count": 10,
   "metadata": {},
   "outputs": [
    {
     "name": "stdout",
     "output_type": "stream",
     "text": [
      "Wall time: 273 ms\n"
     ]
    }
   ],
   "source": [
    "%time r = solve_ivp(dydt, (0,t_end), y0, method=\"BDF\", t_eval=np.linspace(0,t_end,1000), jac=JACOB, rtol = 1e-7, atol=1e-10)\n",
    "P_NH3, Th_NH3, Th_NH2, Th_NH, Th_N, Th_NN, Th_N2, Th_H, Th, P_N2, P_H2, T = r.y \n",
    "#  0     1       2     3      4      5      6       7   8    9     10   11\n",
    "t = r.t"
   ]
  },
  {
   "cell_type": "markdown",
   "metadata": {},
   "source": [
    "### Plot Coverage Vs Temperature"
   ]
  },
  {
   "cell_type": "code",
   "execution_count": 39,
   "metadata": {},
   "outputs": [
    {
     "data": {
      "image/png": "[encoded data removed]",
      "text/plain": [
       "<Figure size 432x288 with 1 Axes>"
      ]
     },
     "metadata": {
      "needs_background": "light"
     },
     "output_type": "display_data"
    }
   ],
   "source": [
    "%matplotlib inline\n",
    "plt.plot(T,Th_NH3, label= \"Theta NH3\")\n",
    "plt.plot(T,Th_NH2, label= \"Theta NH2\")\n",
    "plt.plot(T,Th_NH, label= \"Theta NH\")\n",
    "plt.plot(T,Th_N, label= \"Theta N\")\n",
    "plt.plot(T,Th_NN, label= \"Theta N-N\")\n",
    "plt.plot(T,Th_N2, label= \"Theta N2\")\n",
    "plt.plot(T,Th_H, label= \"Theta H\")\n",
    "plt.plot(T,Th, label= \"Theta\", ls = \"--\")\n",
    "plt.xlabel(\"Temperature (K)\")\n",
    "plt.ylabel(\"Coverage\")\n",
    "plt.legend()\n",
    "plt.show()"
   ]
  },
  {
   "cell_type": "markdown",
   "metadata": {},
   "source": [
    "### Plot Pressure Vs Temperature"
   ]
  },
  {
   "cell_type": "code",
   "execution_count": 38,
   "metadata": {},
   "outputs": [
    {
     "data": {
      "image/png": "[encoded data removed]",
      "text/plain": [
       "<Figure size 432x288 with 1 Axes>"
      ]
     },
     "metadata": {
      "needs_background": "light"
     },
     "output_type": "display_data"
    }
   ],
   "source": [
    "%matplotlib inline\n",
    "plt.plot(T,P_NH3, label= \"NH3\")\n",
    "plt.plot(T,P_N2, label= \"N2\")\n",
    "plt.plot(T,P_H2, label= \"H2\")\n",
    "plt.xlabel(\"Temperature (K)\")\n",
    "plt.ylabel(\"Pressure\")\n",
    "plt.legend()\n",
    "plt.show()"
   ]
  },
  {
   "cell_type": "markdown",
   "metadata": {},
   "source": [
    "### Calculate Rate reaction"
   ]
  },
  {
   "cell_type": "code",
   "execution_count": 14,
   "metadata": {},
   "outputs": [],
   "source": [
    " #Rate constant\n",
    "k_des_1 = k_des(T, 1e-20, m_NH3, 1, 8.92, 140e3)/Beta # NH3 desorption\n",
    "\n",
    "k_f_2 = k_surf(T, 1e13, 110e3)/Beta # dissociation of NH3\n",
    "k_b_2 = k_surf(T, 1e13,  115e3)/Beta\n",
    "\n",
    "k_f_4 = k_surf(T, 1e13, 118e3)/Beta\n",
    "k_b_4 = k_surf(T, 1e13,  92e3)/Beta   # dissociation of NH\n",
    "\n",
    "k_f_5 = k_surf(T, 1e13, 165e3)/Beta\n",
    "k_b_5 = k_surf(T, 1e13,  104e3)/Beta   # N-N coupling\n",
    "\n",
    "        # rate calc\n",
    "rb1 = k_des_1 * Th_NH3 ; r1 = rb1 #-rf1 #NH3 Ads and Des\n",
    "\n",
    "rf2 = k_f_2 * Th_NH3 * Th \n",
    "rb2 = k_b_2 * Th_NH2 * Th_H ; r2 = rf2-rb2 # NH3* rate\n",
    "\n",
    "rf4 = k_f_4 * Th_NH * Th\n",
    "rb4 = k_b_4 * Th_N * Th_H ; r4 = rf4-rb4 # NH* rate\n",
    "\n",
    "rf5 = k_f_5 * Th_N**2   \n",
    "rb5 = k_b_5 * Th_NN  ; r5 = rf5-rb5 # N* rate\n",
    "\n",
    "r7 = r5 # N2 Des desorption\n",
    "\n",
    "r8 = 0.5*(2*r2+r4)# H2 Des desorption"
   ]
  },
  {
   "cell_type": "markdown",
   "metadata": {},
   "source": [
    "### Plot TPD of NH<sub>3</sub>"
   ]
  },
  {
   "cell_type": "code",
   "execution_count": 29,
   "metadata": {},
   "outputs": [
    {
     "data": {
      "image/png": "[encoded data removed]",
      "text/plain": [
       "<Figure size 432x288 with 1 Axes>"
      ]
     },
     "metadata": {
      "needs_background": "light"
     },
     "output_type": "display_data"
    }
   ],
   "source": [
    "%matplotlib inline\n",
    "plt.plot(T,r1, label= \"NH3\")\n",
    "plt.title(\"TPD of NH3 at \"+ str(round(th_NH3_0,2))+\" coverage\")\n",
    "plt.xlabel(\"Temperature (K)\")\n",
    "plt.ylabel(\"Rate\")\n",
    "plt.legend()\n",
    "plt.xlim(200,1000)\n",
    "plt.show()"
   ]
  },
  {
   "cell_type": "markdown",
   "metadata": {},
   "source": [
    "### Plot TPD of N<sub>2</sub>"
   ]
  },
  {
   "cell_type": "code",
   "execution_count": 35,
   "metadata": {},
   "outputs": [
    {
     "data": {
      "image/png": "[encoded data removed]",
      "text/plain": [
       "<Figure size 432x288 with 1 Axes>"
      ]
     },
     "metadata": {
      "needs_background": "light"
     },
     "output_type": "display_data"
    }
   ],
   "source": [
    "%matplotlib inline\n",
    "plt.plot(T,r7, label= \"N2\", color =\"g\")\n",
    "plt.title(\"TPD of N2 at \"+ str(round(th_NH3_0,2))+\" coverage\")\n",
    "plt.xlabel(\"Temperature (K)\")\n",
    "plt.ylabel(\"Rate\")\n",
    "plt.legend()\n",
    "plt.xlim(200,1000)\n",
    "plt.show()"
   ]
  },
  {
   "cell_type": "markdown",
   "metadata": {},
   "source": [
    "### Plot TPD of H<sub>2</sub>"
   ]
  },
  {
   "cell_type": "code",
   "execution_count": 36,
   "metadata": {},
   "outputs": [
    {
     "data": {
      "image/png": "[encoded data removed]",
      "text/plain": [
       "<Figure size 432x288 with 1 Axes>"
      ]
     },
     "metadata": {
      "needs_background": "light"
     },
     "output_type": "display_data"
    }
   ],
   "source": [
    "%matplotlib inline\n",
    "plt.plot(T,r8, label= \"H2\", color =\"r\")\n",
    "plt.title(\"TPD of H2 at \"+ str(round(th_NH3_0,2))+\" coverage\")\n",
    "plt.xlabel(\"Temperature (K)\")\n",
    "plt.ylabel(\"Rate\")\n",
    "plt.legend()\n",
    "plt.xlim(200,1000)\n",
    "plt.show()"
   ]
  },
  {
   "cell_type": "code",
   "execution_count": null,
   "metadata": {},
   "outputs": [],
   "source": []
  }
 ],
 "metadata": {
  "kernelspec": {
   "display_name": "Python 3",
   "language": "python",
   "name": "python3"
  },
  "language_info": {
   "codemirror_mode": {
    "name": "ipython",
    "version": 3
   },
   "file_extension": ".py",
   "mimetype": "text/x-python",
   "name": "python",
   "nbconvert_exporter": "python",
   "pygments_lexer": "ipython3",
   "version": "3.7.7"
  }
 },
 "nbformat": 4,
 "nbformat_minor": 4
}
